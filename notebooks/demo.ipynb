{
 "cells": [
  {
   "cell_type": "code",
   "execution_count": 1,
   "id": "1711ec28",
   "metadata": {},
   "outputs": [],
   "source": [
    "from pygmailsorter.interface import Gmail"
   ]
  },
  {
   "cell_type": "code",
   "execution_count": 2,
   "id": "2401c7fd",
   "metadata": {},
   "outputs": [],
   "source": [
    "gmail = Gmail(\n",
    "    config_folder=\"/Users/jan/PycharmProjects/my-email-actions/config\"\n",
    ")"
   ]
  },
  {
   "cell_type": "markdown",
   "id": "5ae3d0bb",
   "metadata": {},
   "source": [
    "# Update local database"
   ]
  },
  {
   "cell_type": "code",
   "execution_count": 3,
   "id": "df8dd774",
   "metadata": {},
   "outputs": [
    {
     "name": "stderr",
     "output_type": "stream",
     "text": [
      "Get labels for emails: 0it [00:00, ?it/s]\n",
      "Update labels: 0it [00:00, ?it/s]\n",
      "Download messagees to DataFrame: 100%|██████| 4896/4896 [16:39<00:00,  4.90it/s]\n"
     ]
    }
   ],
   "source": [
    "gmail.update_database(quick=False)"
   ]
  },
  {
   "cell_type": "markdown",
   "id": "6028b155",
   "metadata": {},
   "source": [
    "# Train machine learning model"
   ]
  },
  {
   "cell_type": "code",
   "execution_count": 4,
   "id": "489ef3ff",
   "metadata": {},
   "outputs": [
    {
     "name": "stderr",
     "output_type": "stream",
     "text": [
      "Create dataframe from database: 100%|██████| 4896/4896 [00:08<00:00, 595.47it/s]\n",
      "Train machinelearning models: 100%|█████████████| 18/18 [01:53<00:00,  6.31s/it]\n"
     ]
    }
   ],
   "source": [
    "gmail.fit_machine_learning_model_to_database(\n",
    "    n_estimators=100,\n",
    "    max_features=400,\n",
    "    random_state=42,\n",
    "    bootstrap=True,\n",
    "    include_deleted=False,\n",
    ")"
   ]
  },
  {
   "cell_type": "markdown",
   "id": "3046e245",
   "metadata": {},
   "source": [
    "# Sort emails with machine learning"
   ]
  },
  {
   "cell_type": "code",
   "execution_count": 5,
   "id": "907c830a",
   "metadata": {},
   "outputs": [
    {
     "name": "stderr",
     "output_type": "stream",
     "text": [
      "Download messagees to DataFrame: 100%|██████████| 12/12 [00:02<00:00,  5.33it/s]\n",
      "Move emails: 100%|██████████████████████████| 12/12 [00:00<00:00, 518882.97it/s]\n"
     ]
    }
   ],
   "source": [
    "gmail.filter_messages_from_server(\n",
    "    label=\"9-emails-to-sort\", \n",
    "    recommendation_ratio=0.9\n",
    ")"
   ]
  }
 ],
 "metadata": {
  "kernelspec": {
   "display_name": "Python 3 (ipykernel)",
   "language": "python",
   "name": "python3"
  },
  "language_info": {
   "codemirror_mode": {
    "name": "ipython",
    "version": 3
   },
   "file_extension": ".py",
   "mimetype": "text/x-python",
   "name": "python",
   "nbconvert_exporter": "python",
   "pygments_lexer": "ipython3",
   "version": "3.10.6"
  }
 },
 "nbformat": 4,
 "nbformat_minor": 5
}
