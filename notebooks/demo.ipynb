{
 "cells": [
  {
   "cell_type": "code",
   "execution_count": 1,
   "id": "eb625454",
   "metadata": {},
   "outputs": [
    {
     "data": {
      "text/plain": [
       "'/Users/jan/PycharmProjects/pygmailsorter/pygmailsorter/__init__.py'"
      ]
     },
     "execution_count": 1,
     "metadata": {},
     "output_type": "execute_result"
    }
   ],
   "source": [
    "import gmailsorter\n",
    "gmailsorter.__file__"
   ]
  },
  {
   "cell_type": "code",
   "execution_count": 2,
   "id": "1711ec28",
   "metadata": {},
   "outputs": [],
   "source": [
    "from gmailsorter import Gmail, load_client_secrets_file"
   ]
  },
  {
   "cell_type": "code",
   "execution_count": 3,
   "id": "2401c7fd",
   "metadata": {},
   "outputs": [
    {
     "name": "stdout",
     "output_type": "stream",
     "text": [
      "Please visit this URL to authorize this application: https://accounts.google.com/o/oauth2/auth?response_type=code&client_id=301339340692-uf985aphno5d2c3lqheqk3csao6tcjlr.apps.googleusercontent.com&redirect_uri=http%3A%2F%2Flocalhost%3A8080%2F&scope=https%3A%2F%2Fmail.google.com%2F&state=2tfRtmvZqtioS3IZUkZ5AUjQDxNNEz&access_type=offline\n"
     ]
    }
   ],
   "source": [
    "gmail = Gmail(\n",
    "    client_config=load_client_secrets_file(\n",
    "        client_secrets_file=\"/Users/jan/PycharmProjects/my-email-actions/credentials.json\"\n",
    "    ),\n",
    "    connection_str=\"sqlite:////Users/jan/PycharmProjects/my-email-actions/email.db\",\n",
    ")"
   ]
  },
  {
   "cell_type": "markdown",
   "id": "5ae3d0bb",
   "metadata": {},
   "source": [
    "# Update local database"
   ]
  },
  {
   "cell_type": "code",
   "execution_count": 4,
   "id": "df8dd774",
   "metadata": {},
   "outputs": [
    {
     "name": "stderr",
     "output_type": "stream",
     "text": [
      "Get labels for emails: 0it [00:00, ?it/s]\n",
      "Update labels: 0it [00:00, ?it/s]\n",
      "Download messagees to DataFrame: 100%|██████████████████████████████████████████| 5963/5963 [17:58<00:00,  5.53it/s]\n"
     ]
    }
   ],
   "source": [
    "gmail.update_database(quick=False)"
   ]
  },
  {
   "cell_type": "markdown",
   "id": "6028b155",
   "metadata": {},
   "source": [
    "# Train machine learning model"
   ]
  },
  {
   "cell_type": "code",
   "execution_count": 5,
   "id": "489ef3ff",
   "metadata": {},
   "outputs": [
    {
     "name": "stderr",
     "output_type": "stream",
     "text": [
      "Create dataframe from database: 100%|██████████████████████████████████████████| 5963/5963 [00:44<00:00, 133.63it/s]\n",
      "Train machinelearning models: 100%|█████████████████████████████████████████████████| 18/18 [02:15<00:00,  7.52s/it]\n"
     ]
    }
   ],
   "source": [
    "gmail.fit_machine_learning_model_to_database(\n",
    "    n_estimators=100,\n",
    "    max_features=400,\n",
    "    random_state=42,\n",
    "    bootstrap=True,\n",
    "    include_deleted=False,\n",
    ")"
   ]
  },
  {
   "cell_type": "markdown",
   "id": "3046e245",
   "metadata": {},
   "source": [
    "# Sort emails with machine learning"
   ]
  },
  {
   "cell_type": "code",
   "execution_count": 6,
   "id": "907c830a",
   "metadata": {},
   "outputs": [
    {
     "name": "stderr",
     "output_type": "stream",
     "text": [
      "Download messagees to DataFrame: 100%|████████████████████████████████████████████████| 8/8 [00:01<00:00,  4.66it/s]\n",
      "Move emails: 100%|████████████████████████████████████████████████████████████████████| 8/8 [00:00<00:00,  8.97it/s]\n"
     ]
    }
   ],
   "source": [
    "gmail.filter_messages_from_server(\n",
    "    label=\"9-emails-to-sort\", \n",
    "    recommendation_ratio=0.9\n",
    ")"
   ]
  }
 ],
 "metadata": {
  "kernelspec": {
   "display_name": "Python 3 (ipykernel)",
   "language": "python",
   "name": "python3"
  },
  "language_info": {
   "codemirror_mode": {
    "name": "ipython",
    "version": 3
   },
   "file_extension": ".py",
   "mimetype": "text/x-python",
   "name": "python",
   "nbconvert_exporter": "python",
   "pygments_lexer": "ipython3",
   "version": "3.10.6"
  }
 },
 "nbformat": 4,
 "nbformat_minor": 5
}
